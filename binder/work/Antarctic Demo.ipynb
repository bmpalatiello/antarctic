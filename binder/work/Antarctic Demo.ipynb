{
 "cells": [
  {
   "cell_type": "code",
   "execution_count": 1,
   "metadata": {},
   "outputs": [],
   "source": [
    "import pandas as pd\n",
    "from antarctic.PandasFields import SeriesField, FrameField"
   ]
  },
  {
   "cell_type": "code",
   "execution_count": 2,
   "metadata": {},
   "outputs": [],
   "source": [
    "# Connect to a MongoDB database\n",
    "from mongoengine import *\n",
    "client = connect(db=\"test\", host=\"mongomock://localhost\")"
   ]
  },
  {
   "cell_type": "code",
   "execution_count": 3,
   "metadata": {},
   "outputs": [
    {
     "data": {
      "text/html": [
       "<div>\n",
       "<style scoped>\n",
       "    .dataframe tbody tr th:only-of-type {\n",
       "        vertical-align: middle;\n",
       "    }\n",
       "\n",
       "    .dataframe tbody tr th {\n",
       "        vertical-align: top;\n",
       "    }\n",
       "\n",
       "    .dataframe thead th {\n",
       "        text-align: right;\n",
       "    }\n",
       "</style>\n",
       "<table border=\"1\" class=\"dataframe\">\n",
       "  <thead>\n",
       "    <tr style=\"text-align: right;\">\n",
       "      <th></th>\n",
       "      <th>A</th>\n",
       "      <th>B</th>\n",
       "      <th>C</th>\n",
       "      <th>D</th>\n",
       "      <th>E</th>\n",
       "      <th>F</th>\n",
       "      <th>G</th>\n",
       "    </tr>\n",
       "  </thead>\n",
       "  <tbody>\n",
       "    <tr>\n",
       "      <th>2013-01-01</th>\n",
       "      <td>1673.78</td>\n",
       "      <td>23311.98</td>\n",
       "      <td>62550.10</td>\n",
       "      <td>3735.12</td>\n",
       "      <td>1462.42</td>\n",
       "      <td>2711.25</td>\n",
       "      <td>2518.99</td>\n",
       "    </tr>\n",
       "    <tr>\n",
       "      <th>2013-01-02</th>\n",
       "      <td>1686.90</td>\n",
       "      <td>23311.98</td>\n",
       "      <td>62550.10</td>\n",
       "      <td>3735.12</td>\n",
       "      <td>1462.42</td>\n",
       "      <td>2711.25</td>\n",
       "      <td>2518.99</td>\n",
       "    </tr>\n",
       "    <tr>\n",
       "      <th>2013-01-03</th>\n",
       "      <td>1663.95</td>\n",
       "      <td>23398.60</td>\n",
       "      <td>63312.46</td>\n",
       "      <td>3714.99</td>\n",
       "      <td>1459.37</td>\n",
       "      <td>2701.22</td>\n",
       "      <td>2509.51</td>\n",
       "    </tr>\n",
       "    <tr>\n",
       "      <th>2013-01-04</th>\n",
       "      <td>1655.65</td>\n",
       "      <td>23331.09</td>\n",
       "      <td>62523.06</td>\n",
       "      <td>3689.34</td>\n",
       "      <td>1466.47</td>\n",
       "      <td>2709.35</td>\n",
       "      <td>2516.81</td>\n",
       "    </tr>\n",
       "    <tr>\n",
       "      <th>2013-01-07</th>\n",
       "      <td>1646.95</td>\n",
       "      <td>23329.75</td>\n",
       "      <td>61932.54</td>\n",
       "      <td>3699.14</td>\n",
       "      <td>1461.89</td>\n",
       "      <td>2695.56</td>\n",
       "      <td>2523.77</td>\n",
       "    </tr>\n",
       "    <tr>\n",
       "      <th>...</th>\n",
       "      <td>...</td>\n",
       "      <td>...</td>\n",
       "      <td>...</td>\n",
       "      <td>...</td>\n",
       "      <td>...</td>\n",
       "      <td>...</td>\n",
       "      <td>...</td>\n",
       "    </tr>\n",
       "    <tr>\n",
       "      <th>2015-04-16</th>\n",
       "      <td>1198.56</td>\n",
       "      <td>27739.71</td>\n",
       "      <td>54674.21</td>\n",
       "      <td>2694.50</td>\n",
       "      <td>2104.99</td>\n",
       "      <td>3751.72</td>\n",
       "      <td>3077.21</td>\n",
       "    </tr>\n",
       "    <tr>\n",
       "      <th>2015-04-17</th>\n",
       "      <td>1204.27</td>\n",
       "      <td>27653.12</td>\n",
       "      <td>53954.79</td>\n",
       "      <td>2676.61</td>\n",
       "      <td>2081.18</td>\n",
       "      <td>3674.05</td>\n",
       "      <td>3061.38</td>\n",
       "    </tr>\n",
       "    <tr>\n",
       "      <th>2015-04-20</th>\n",
       "      <td>1195.88</td>\n",
       "      <td>27094.93</td>\n",
       "      <td>53761.27</td>\n",
       "      <td>2667.63</td>\n",
       "      <td>2100.40</td>\n",
       "      <td>3718.04</td>\n",
       "      <td>3059.73</td>\n",
       "    </tr>\n",
       "    <tr>\n",
       "      <th>2015-04-21</th>\n",
       "      <td>1202.34</td>\n",
       "      <td>27850.49</td>\n",
       "      <td>NaN</td>\n",
       "      <td>2651.41</td>\n",
       "      <td>2097.29</td>\n",
       "      <td>3719.38</td>\n",
       "      <td>3065.53</td>\n",
       "    </tr>\n",
       "    <tr>\n",
       "      <th>2015-04-22</th>\n",
       "      <td>1200.59</td>\n",
       "      <td>27964.84</td>\n",
       "      <td>NaN</td>\n",
       "      <td>2638.95</td>\n",
       "      <td>NaN</td>\n",
       "      <td>3742.77</td>\n",
       "      <td>NaN</td>\n",
       "    </tr>\n",
       "  </tbody>\n",
       "</table>\n",
       "<p>602 rows × 7 columns</p>\n",
       "</div>"
      ],
      "text/plain": [
       "                  A         B         C        D        E        F        G\n",
       "2013-01-01  1673.78  23311.98  62550.10  3735.12  1462.42  2711.25  2518.99\n",
       "2013-01-02  1686.90  23311.98  62550.10  3735.12  1462.42  2711.25  2518.99\n",
       "2013-01-03  1663.95  23398.60  63312.46  3714.99  1459.37  2701.22  2509.51\n",
       "2013-01-04  1655.65  23331.09  62523.06  3689.34  1466.47  2709.35  2516.81\n",
       "2013-01-07  1646.95  23329.75  61932.54  3699.14  1461.89  2695.56  2523.77\n",
       "...             ...       ...       ...      ...      ...      ...      ...\n",
       "2015-04-16  1198.56  27739.71  54674.21  2694.50  2104.99  3751.72  3077.21\n",
       "2015-04-17  1204.27  27653.12  53954.79  2676.61  2081.18  3674.05  3061.38\n",
       "2015-04-20  1195.88  27094.93  53761.27  2667.63  2100.40  3718.04  3059.73\n",
       "2015-04-21  1202.34  27850.49       NaN  2651.41  2097.29  3719.38  3065.53\n",
       "2015-04-22  1200.59  27964.84       NaN  2638.95      NaN  3742.77      NaN\n",
       "\n",
       "[602 rows x 7 columns]"
      ]
     },
     "execution_count": 3,
     "metadata": {},
     "output_type": "execute_result"
    }
   ],
   "source": [
    "# Read some random prices\n",
    "p = pd.read_csv(\"data/price.csv\", squeeze=True, index_col=0)\n",
    "p"
   ]
  },
  {
   "cell_type": "code",
   "execution_count": 4,
   "metadata": {},
   "outputs": [
    {
     "ename": "ImportError",
     "evalue": "matplotlib is required for plotting when the default backend \"matplotlib\" is selected.",
     "output_type": "error",
     "traceback": [
      "\u001b[0;31m---------------------------------------------------------------------------\u001b[0m",
      "\u001b[0;31mImportError\u001b[0m                               Traceback (most recent call last)",
      "\u001b[0;32m<ipython-input-4-6b07fca8bd8b>\u001b[0m in \u001b[0;36m<module>\u001b[0;34m\u001b[0m\n\u001b[0;32m----> 1\u001b[0;31m \u001b[0mp\u001b[0m\u001b[0;34m.\u001b[0m\u001b[0mplot\u001b[0m\u001b[0;34m(\u001b[0m\u001b[0;34m)\u001b[0m\u001b[0;34m\u001b[0m\u001b[0;34m\u001b[0m\u001b[0m\n\u001b[0m",
      "\u001b[0;32m/opt/conda/lib/python3.7/site-packages/pandas/plotting/_core.py\u001b[0m in \u001b[0;36m__call__\u001b[0;34m(self, *args, **kwargs)\u001b[0m\n\u001b[1;32m    765\u001b[0m \u001b[0;34m\u001b[0m\u001b[0m\n\u001b[1;32m    766\u001b[0m     \u001b[0;32mdef\u001b[0m \u001b[0m__call__\u001b[0m\u001b[0;34m(\u001b[0m\u001b[0mself\u001b[0m\u001b[0;34m,\u001b[0m \u001b[0;34m*\u001b[0m\u001b[0margs\u001b[0m\u001b[0;34m,\u001b[0m \u001b[0;34m**\u001b[0m\u001b[0mkwargs\u001b[0m\u001b[0;34m)\u001b[0m\u001b[0;34m:\u001b[0m\u001b[0;34m\u001b[0m\u001b[0;34m\u001b[0m\u001b[0m\n\u001b[0;32m--> 767\u001b[0;31m         \u001b[0mplot_backend\u001b[0m \u001b[0;34m=\u001b[0m \u001b[0m_get_plot_backend\u001b[0m\u001b[0;34m(\u001b[0m\u001b[0mkwargs\u001b[0m\u001b[0;34m.\u001b[0m\u001b[0mpop\u001b[0m\u001b[0;34m(\u001b[0m\u001b[0;34m\"backend\"\u001b[0m\u001b[0;34m,\u001b[0m \u001b[0;32mNone\u001b[0m\u001b[0;34m)\u001b[0m\u001b[0;34m)\u001b[0m\u001b[0;34m\u001b[0m\u001b[0;34m\u001b[0m\u001b[0m\n\u001b[0m\u001b[1;32m    768\u001b[0m \u001b[0;34m\u001b[0m\u001b[0m\n\u001b[1;32m    769\u001b[0m         x, y, kind, kwargs = self._get_call_args(\n",
      "\u001b[0;32m/opt/conda/lib/python3.7/site-packages/pandas/plotting/_core.py\u001b[0m in \u001b[0;36m_get_plot_backend\u001b[0;34m(backend)\u001b[0m\n\u001b[1;32m   1667\u001b[0m                 \u001b[0;34m\"matplotlib is required for plotting when the \"\u001b[0m\u001b[0;34m\u001b[0m\u001b[0;34m\u001b[0m\u001b[0m\n\u001b[1;32m   1668\u001b[0m                 \u001b[0;34m'default backend \"matplotlib\" is selected.'\u001b[0m\u001b[0;34m\u001b[0m\u001b[0;34m\u001b[0m\u001b[0m\n\u001b[0;32m-> 1669\u001b[0;31m             ) from None\n\u001b[0m\u001b[1;32m   1670\u001b[0m \u001b[0;34m\u001b[0m\u001b[0m\n\u001b[1;32m   1671\u001b[0m         \u001b[0m_backends\u001b[0m\u001b[0;34m[\u001b[0m\u001b[0;34m\"matplotlib\"\u001b[0m\u001b[0;34m]\u001b[0m \u001b[0;34m=\u001b[0m \u001b[0mmodule\u001b[0m\u001b[0;34m\u001b[0m\u001b[0;34m\u001b[0m\u001b[0m\n",
      "\u001b[0;31mImportError\u001b[0m: matplotlib is required for plotting when the default backend \"matplotlib\" is selected."
     ]
    }
   ],
   "source": [
    "p.plot()"
   ]
  },
  {
   "cell_type": "markdown",
   "metadata": {},
   "source": [
    "## Pandas objects within the standard Documents"
   ]
  },
  {
   "cell_type": "code",
   "execution_count": 5,
   "metadata": {},
   "outputs": [],
   "source": [
    "# A first option could be to store the entire frame as one field in a Document\n",
    "class Portfolio(Document):\n",
    "    prices = FrameField()\n",
    "    series = SeriesField()"
   ]
  },
  {
   "cell_type": "code",
   "execution_count": 6,
   "metadata": {},
   "outputs": [],
   "source": [
    "# create a Portfolio object and store in a database\n",
    "portfolio = Portfolio(prices=p, series=p[\"A\"]).save()"
   ]
  },
  {
   "cell_type": "code",
   "execution_count": 7,
   "metadata": {},
   "outputs": [
    {
     "data": {
      "text/html": [
       "<div>\n",
       "<style scoped>\n",
       "    .dataframe tbody tr th:only-of-type {\n",
       "        vertical-align: middle;\n",
       "    }\n",
       "\n",
       "    .dataframe tbody tr th {\n",
       "        vertical-align: top;\n",
       "    }\n",
       "\n",
       "    .dataframe thead th {\n",
       "        text-align: right;\n",
       "    }\n",
       "</style>\n",
       "<table border=\"1\" class=\"dataframe\">\n",
       "  <thead>\n",
       "    <tr style=\"text-align: right;\">\n",
       "      <th></th>\n",
       "      <th>A</th>\n",
       "      <th>B</th>\n",
       "      <th>C</th>\n",
       "      <th>D</th>\n",
       "      <th>E</th>\n",
       "      <th>F</th>\n",
       "      <th>G</th>\n",
       "    </tr>\n",
       "  </thead>\n",
       "  <tbody>\n",
       "    <tr>\n",
       "      <th>2013-01-01</th>\n",
       "      <td>1673.78</td>\n",
       "      <td>23311.98</td>\n",
       "      <td>62550.10</td>\n",
       "      <td>3735.12</td>\n",
       "      <td>1462.42</td>\n",
       "      <td>2711.25</td>\n",
       "      <td>2518.99</td>\n",
       "    </tr>\n",
       "    <tr>\n",
       "      <th>2013-01-02</th>\n",
       "      <td>1686.90</td>\n",
       "      <td>23311.98</td>\n",
       "      <td>62550.10</td>\n",
       "      <td>3735.12</td>\n",
       "      <td>1462.42</td>\n",
       "      <td>2711.25</td>\n",
       "      <td>2518.99</td>\n",
       "    </tr>\n",
       "    <tr>\n",
       "      <th>2013-01-03</th>\n",
       "      <td>1663.95</td>\n",
       "      <td>23398.60</td>\n",
       "      <td>63312.46</td>\n",
       "      <td>3714.99</td>\n",
       "      <td>1459.37</td>\n",
       "      <td>2701.22</td>\n",
       "      <td>2509.51</td>\n",
       "    </tr>\n",
       "    <tr>\n",
       "      <th>2013-01-04</th>\n",
       "      <td>1655.65</td>\n",
       "      <td>23331.09</td>\n",
       "      <td>62523.06</td>\n",
       "      <td>3689.34</td>\n",
       "      <td>1466.47</td>\n",
       "      <td>2709.35</td>\n",
       "      <td>2516.81</td>\n",
       "    </tr>\n",
       "    <tr>\n",
       "      <th>2013-01-07</th>\n",
       "      <td>1646.95</td>\n",
       "      <td>23329.75</td>\n",
       "      <td>61932.54</td>\n",
       "      <td>3699.14</td>\n",
       "      <td>1461.89</td>\n",
       "      <td>2695.56</td>\n",
       "      <td>2523.77</td>\n",
       "    </tr>\n",
       "    <tr>\n",
       "      <th>...</th>\n",
       "      <td>...</td>\n",
       "      <td>...</td>\n",
       "      <td>...</td>\n",
       "      <td>...</td>\n",
       "      <td>...</td>\n",
       "      <td>...</td>\n",
       "      <td>...</td>\n",
       "    </tr>\n",
       "    <tr>\n",
       "      <th>2015-04-16</th>\n",
       "      <td>1198.56</td>\n",
       "      <td>27739.71</td>\n",
       "      <td>54674.21</td>\n",
       "      <td>2694.50</td>\n",
       "      <td>2104.99</td>\n",
       "      <td>3751.72</td>\n",
       "      <td>3077.21</td>\n",
       "    </tr>\n",
       "    <tr>\n",
       "      <th>2015-04-17</th>\n",
       "      <td>1204.27</td>\n",
       "      <td>27653.12</td>\n",
       "      <td>53954.79</td>\n",
       "      <td>2676.61</td>\n",
       "      <td>2081.18</td>\n",
       "      <td>3674.05</td>\n",
       "      <td>3061.38</td>\n",
       "    </tr>\n",
       "    <tr>\n",
       "      <th>2015-04-20</th>\n",
       "      <td>1195.88</td>\n",
       "      <td>27094.93</td>\n",
       "      <td>53761.27</td>\n",
       "      <td>2667.63</td>\n",
       "      <td>2100.40</td>\n",
       "      <td>3718.04</td>\n",
       "      <td>3059.73</td>\n",
       "    </tr>\n",
       "    <tr>\n",
       "      <th>2015-04-21</th>\n",
       "      <td>1202.34</td>\n",
       "      <td>27850.49</td>\n",
       "      <td>NaN</td>\n",
       "      <td>2651.41</td>\n",
       "      <td>2097.29</td>\n",
       "      <td>3719.38</td>\n",
       "      <td>3065.53</td>\n",
       "    </tr>\n",
       "    <tr>\n",
       "      <th>2015-04-22</th>\n",
       "      <td>1200.59</td>\n",
       "      <td>27964.84</td>\n",
       "      <td>NaN</td>\n",
       "      <td>2638.95</td>\n",
       "      <td>NaN</td>\n",
       "      <td>3742.77</td>\n",
       "      <td>NaN</td>\n",
       "    </tr>\n",
       "  </tbody>\n",
       "</table>\n",
       "<p>602 rows × 7 columns</p>\n",
       "</div>"
      ],
      "text/plain": [
       "                  A         B         C        D        E        F        G\n",
       "2013-01-01  1673.78  23311.98  62550.10  3735.12  1462.42  2711.25  2518.99\n",
       "2013-01-02  1686.90  23311.98  62550.10  3735.12  1462.42  2711.25  2518.99\n",
       "2013-01-03  1663.95  23398.60  63312.46  3714.99  1459.37  2701.22  2509.51\n",
       "2013-01-04  1655.65  23331.09  62523.06  3689.34  1466.47  2709.35  2516.81\n",
       "2013-01-07  1646.95  23329.75  61932.54  3699.14  1461.89  2695.56  2523.77\n",
       "...             ...       ...       ...      ...      ...      ...      ...\n",
       "2015-04-16  1198.56  27739.71  54674.21  2694.50  2104.99  3751.72  3077.21\n",
       "2015-04-17  1204.27  27653.12  53954.79  2676.61  2081.18  3674.05  3061.38\n",
       "2015-04-20  1195.88  27094.93  53761.27  2667.63  2100.40  3718.04  3059.73\n",
       "2015-04-21  1202.34  27850.49       NaN  2651.41  2097.29  3719.38  3065.53\n",
       "2015-04-22  1200.59  27964.84       NaN  2638.95      NaN  3742.77      NaN\n",
       "\n",
       "[602 rows x 7 columns]"
      ]
     },
     "execution_count": 7,
     "metadata": {},
     "output_type": "execute_result"
    }
   ],
   "source": [
    "portfolio.prices"
   ]
  },
  {
   "cell_type": "code",
   "execution_count": 8,
   "metadata": {},
   "outputs": [
    {
     "data": {
      "text/plain": [
       "2013-01-01    1673.78\n",
       "2013-01-02    1686.90\n",
       "2013-01-03    1663.95\n",
       "2013-01-04    1655.65\n",
       "2013-01-07    1646.95\n",
       "               ...   \n",
       "2015-04-16    1198.56\n",
       "2015-04-17    1204.27\n",
       "2015-04-20    1195.88\n",
       "2015-04-21    1202.34\n",
       "2015-04-22    1200.59\n",
       "Name: A, Length: 602, dtype: float64"
      ]
     },
     "execution_count": 8,
     "metadata": {},
     "output_type": "execute_result"
    }
   ],
   "source": [
    "portfolio.series"
   ]
  },
  {
   "cell_type": "markdown",
   "metadata": {},
   "source": [
    "## Using the XDocument provided by antarctic\n",
    "\n",
    "The XDocument is a convenient choice for "
   ]
  },
  {
   "cell_type": "code",
   "execution_count": 9,
   "metadata": {},
   "outputs": [],
   "source": [
    "from antarctic.Document import XDocument"
   ]
  },
  {
   "cell_type": "code",
   "execution_count": 10,
   "metadata": {},
   "outputs": [],
   "source": [
    "class Symbol(XDocument):\n",
    "    price = SeriesField()\n",
    "    volume = SeriesField()\n",
    "\n",
    "Symbol.objects.delete()\n",
    "\n",
    "# XDocuments have the field name and the field reference\n",
    "for name, data in p.items():\n",
    "    s = Symbol(name=name, price=data)\n",
    "    s.reference[\"Full name\"] = name + \" full\"\n",
    "    s.save()"
   ]
  },
  {
   "cell_type": "code",
   "execution_count": 11,
   "metadata": {},
   "outputs": [
    {
     "data": {
      "text/html": [
       "<div>\n",
       "<style scoped>\n",
       "    .dataframe tbody tr th:only-of-type {\n",
       "        vertical-align: middle;\n",
       "    }\n",
       "\n",
       "    .dataframe tbody tr th {\n",
       "        vertical-align: top;\n",
       "    }\n",
       "\n",
       "    .dataframe thead th {\n",
       "        text-align: right;\n",
       "    }\n",
       "</style>\n",
       "<table border=\"1\" class=\"dataframe\">\n",
       "  <thead>\n",
       "    <tr style=\"text-align: right;\">\n",
       "      <th></th>\n",
       "      <th>Full name</th>\n",
       "    </tr>\n",
       "    <tr>\n",
       "      <th>symbol</th>\n",
       "      <th></th>\n",
       "    </tr>\n",
       "  </thead>\n",
       "  <tbody>\n",
       "    <tr>\n",
       "      <th>A</th>\n",
       "      <td>A full</td>\n",
       "    </tr>\n",
       "    <tr>\n",
       "      <th>B</th>\n",
       "      <td>B full</td>\n",
       "    </tr>\n",
       "    <tr>\n",
       "      <th>C</th>\n",
       "      <td>C full</td>\n",
       "    </tr>\n",
       "    <tr>\n",
       "      <th>D</th>\n",
       "      <td>D full</td>\n",
       "    </tr>\n",
       "    <tr>\n",
       "      <th>E</th>\n",
       "      <td>E full</td>\n",
       "    </tr>\n",
       "    <tr>\n",
       "      <th>F</th>\n",
       "      <td>F full</td>\n",
       "    </tr>\n",
       "    <tr>\n",
       "      <th>G</th>\n",
       "      <td>G full</td>\n",
       "    </tr>\n",
       "  </tbody>\n",
       "</table>\n",
       "</div>"
      ],
      "text/plain": [
       "       Full name\n",
       "symbol          \n",
       "A         A full\n",
       "B         B full\n",
       "C         C full\n",
       "D         D full\n",
       "E         E full\n",
       "F         F full\n",
       "G         G full"
      ]
     },
     "execution_count": 11,
     "metadata": {},
     "output_type": "execute_result"
    }
   ],
   "source": [
    "# each Symbol is an XDocument. The class XDocument provides a few convenient cls methods\n",
    "Symbol.reference_frame()"
   ]
  },
  {
   "cell_type": "code",
   "execution_count": 12,
   "metadata": {},
   "outputs": [],
   "source": [
    "# you can ask for subsets\n",
    "symbols=Symbol.products(names=[\"A\",\"B\",\"D\"])\n",
    "\n",
    "# or all of them\n",
    "symbols_all=Symbol.products()\n"
   ]
  },
  {
   "cell_type": "code",
   "execution_count": 21,
   "metadata": {},
   "outputs": [
    {
     "data": {
      "text/plain": [
       "[<Symbol: <Symbol: A>>, <Symbol: <Symbol: B>>, <Symbol: <Symbol: D>>]"
      ]
     },
     "execution_count": 21,
     "metadata": {},
     "output_type": "execute_result"
    }
   ],
   "source": [
    "symbols"
   ]
  },
  {
   "cell_type": "code",
   "execution_count": 22,
   "metadata": {},
   "outputs": [
    {
     "data": {
      "text/plain": [
       "[<Symbol: <Symbol: A>>, <Symbol: <Symbol: B>>, <Symbol: <Symbol: C>>, <Symbol: <Symbol: D>>, <Symbol: <Symbol: E>>, <Symbol: <Symbol: F>>, <Symbol: <Symbol: G>>]"
      ]
     },
     "execution_count": 22,
     "metadata": {},
     "output_type": "execute_result"
    }
   ],
   "source": [
    "symbols_all"
   ]
  },
  {
   "cell_type": "code",
   "execution_count": 23,
   "metadata": {},
   "outputs": [],
   "source": [
    "d = Symbol.to_dict()"
   ]
  },
  {
   "cell_type": "code",
   "execution_count": null,
   "metadata": {},
   "outputs": [],
   "source": []
  }
 ],
 "metadata": {
  "kernelspec": {
   "display_name": "Python 3",
   "language": "python",
   "name": "python3"
  },
  "language_info": {
   "codemirror_mode": {
    "name": "ipython",
    "version": 3
   },
   "file_extension": ".py",
   "mimetype": "text/x-python",
   "name": "python",
   "nbconvert_exporter": "python",
   "pygments_lexer": "ipython3",
   "version": "3.7.6"
  },
  "toc": {
   "base_numbering": 1,
   "nav_menu": {},
   "number_sections": false,
   "sideBar": false,
   "skip_h1_title": false,
   "title_cell": "Table of Contents",
   "title_sidebar": "Contents",
   "toc_cell": false,
   "toc_position": {},
   "toc_section_display": false,
   "toc_window_display": false
  }
 },
 "nbformat": 4,
 "nbformat_minor": 4
}
